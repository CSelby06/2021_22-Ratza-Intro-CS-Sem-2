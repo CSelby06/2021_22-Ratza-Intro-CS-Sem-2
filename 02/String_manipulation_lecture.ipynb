{
  "cells": [
    {
      "cell_type": "markdown",
      "metadata": {
        "id": "view-in-github",
        "colab_type": "text"
      },
      "source": [
        "<a href=\"https://colab.research.google.com/github/CSelby06/2021_22-Ratza-Intro-CS-Sem-2/blob/main/02/String_manipulation_lecture.ipynb\" target=\"_parent\"><img src=\"https://colab.research.google.com/assets/colab-badge.svg\" alt=\"Open In Colab\"/></a>"
      ]
    },
    {
      "cell_type": "markdown",
      "source": [
        "# String Manipulation\n",
        "\n",
        "[Python Docs](https://docs.python.org/3.7/search.html?q=string)\n",
        "\n",
        "We've seen some ways we can manipulate numbers in Python, now let's explore different ways we can interact with strings in Python.\n",
        "\n",
        "Text data in Python is represented using **strings** (think strings of characters), and Python provides various ways of interacting with strings. We've covered some of the basics like adding strings and basic formatting, but let's review."
      ],
      "metadata": {
        "collapsed": false,
        "id": "TTMgRw5jjg6K"
      }
    },
    {
      "cell_type": "code",
      "source": [
        "greeting = \"hello\"\n",
        "name = \"Cody\"\n",
        "\n",
        "f\"{greeting}, {name}.\""
      ],
      "metadata": {
        "colab": {
          "base_uri": "https://localhost:8080/",
          "height": 35
        },
        "id": "8zZ1-N5KmueU",
        "outputId": "10a4b786-d634-4562-8931-35c30f98e609"
      },
      "execution_count": 3,
      "outputs": [
        {
          "output_type": "execute_result",
          "data": {
            "application/vnd.google.colaboratory.intrinsic+json": {
              "type": "string"
            },
            "text/plain": [
              "'hello, Cody.'"
            ]
          },
          "metadata": {},
          "execution_count": 3
        }
      ]
    },
    {
      "cell_type": "code",
      "source": [
        "greeting + name "
      ],
      "metadata": {
        "colab": {
          "base_uri": "https://localhost:8080/",
          "height": 35
        },
        "id": "vYoL-dQEnE78",
        "outputId": "5e27b6c0-a05d-4ef2-b43d-5fd418dc7141"
      },
      "execution_count": 4,
      "outputs": [
        {
          "output_type": "execute_result",
          "data": {
            "application/vnd.google.colaboratory.intrinsic+json": {
              "type": "string"
            },
            "text/plain": [
              "'helloCody'"
            ]
          },
          "metadata": {},
          "execution_count": 4
        }
      ]
    },
    {
      "cell_type": "code",
      "source": [
        "greeting * 5"
      ],
      "metadata": {
        "colab": {
          "base_uri": "https://localhost:8080/",
          "height": 35
        },
        "id": "7aIo0MO7nJuE",
        "outputId": "b2d81dd7-fbaa-44fe-e707-e045ad1851d4"
      },
      "execution_count": 5,
      "outputs": [
        {
          "output_type": "execute_result",
          "data": {
            "application/vnd.google.colaboratory.intrinsic+json": {
              "type": "string"
            },
            "text/plain": [
              "'hellohellohellohellohello'"
            ]
          },
          "metadata": {},
          "execution_count": 5
        }
      ]
    },
    {
      "cell_type": "code",
      "execution_count": 1,
      "metadata": {
        "collapsed": true,
        "id": "gL1AZJkUjg6M"
      },
      "outputs": [],
      "source": [
        "# 42 = 6j + 6"
      ]
    },
    {
      "cell_type": "markdown",
      "source": [
        "### Built-in Functions\n",
        "\n",
        "Python provides many functions that are built-in to the interpreter and always available. Here are a few that work with strings"
      ],
      "metadata": {
        "collapsed": false,
        "id": "0-g4QzH4jg6N"
      }
    },
    {
      "cell_type": "code",
      "execution_count": 6,
      "outputs": [
        {
          "output_type": "execute_result",
          "data": {
            "text/plain": [
              "['__add__',\n",
              " '__class__',\n",
              " '__contains__',\n",
              " '__delattr__',\n",
              " '__dir__',\n",
              " '__doc__',\n",
              " '__eq__',\n",
              " '__format__',\n",
              " '__ge__',\n",
              " '__getattribute__',\n",
              " '__getitem__',\n",
              " '__getnewargs__',\n",
              " '__gt__',\n",
              " '__hash__',\n",
              " '__init__',\n",
              " '__init_subclass__',\n",
              " '__iter__',\n",
              " '__le__',\n",
              " '__len__',\n",
              " '__lt__',\n",
              " '__mod__',\n",
              " '__mul__',\n",
              " '__ne__',\n",
              " '__new__',\n",
              " '__reduce__',\n",
              " '__reduce_ex__',\n",
              " '__repr__',\n",
              " '__rmod__',\n",
              " '__rmul__',\n",
              " '__setattr__',\n",
              " '__sizeof__',\n",
              " '__str__',\n",
              " '__subclasshook__',\n",
              " 'capitalize',\n",
              " 'casefold',\n",
              " 'center',\n",
              " 'count',\n",
              " 'encode',\n",
              " 'endswith',\n",
              " 'expandtabs',\n",
              " 'find',\n",
              " 'format',\n",
              " 'format_map',\n",
              " 'index',\n",
              " 'isalnum',\n",
              " 'isalpha',\n",
              " 'isascii',\n",
              " 'isdecimal',\n",
              " 'isdigit',\n",
              " 'isidentifier',\n",
              " 'islower',\n",
              " 'isnumeric',\n",
              " 'isprintable',\n",
              " 'isspace',\n",
              " 'istitle',\n",
              " 'isupper',\n",
              " 'join',\n",
              " 'ljust',\n",
              " 'lower',\n",
              " 'lstrip',\n",
              " 'maketrans',\n",
              " 'partition',\n",
              " 'replace',\n",
              " 'rfind',\n",
              " 'rindex',\n",
              " 'rjust',\n",
              " 'rpartition',\n",
              " 'rsplit',\n",
              " 'rstrip',\n",
              " 'split',\n",
              " 'splitlines',\n",
              " 'startswith',\n",
              " 'strip',\n",
              " 'swapcase',\n",
              " 'title',\n",
              " 'translate',\n",
              " 'upper',\n",
              " 'zfill']"
            ]
          },
          "metadata": {},
          "execution_count": 6
        }
      ],
      "source": [
        "dir(greeting) "
      ],
      "metadata": {
        "pycharm": {
          "name": "#%%\n"
        },
        "id": "kmNvuYFQjg6N",
        "colab": {
          "base_uri": "https://localhost:8080/"
        },
        "outputId": "3e9ac974-cfb3-43af-b94c-c7ab2c384051"
      }
    },
    {
      "cell_type": "markdown",
      "source": [
        "We can change the characters to upper or lower case."
      ],
      "metadata": {
        "collapsed": false,
        "id": "UsVDu96ajg6O"
      }
    },
    {
      "cell_type": "code",
      "execution_count": 32,
      "outputs": [
        {
          "output_type": "execute_result",
          "data": {
            "application/vnd.google.colaboratory.intrinsic+json": {
              "type": "string"
            },
            "text/plain": [
              "'This is a simple sentence.'"
            ]
          },
          "metadata": {},
          "execution_count": 32
        }
      ],
      "source": [
        "s = \"This is a simple sentence.\" \n",
        "\n",
        "s.title()\n",
        "\n",
        "s.lower()\n",
        "\n",
        "s.upper()\n",
        "\n",
        "s.capitalize()"
      ],
      "metadata": {
        "pycharm": {
          "name": "#%%\n"
        },
        "id": "rAxy_jcrjg6O",
        "colab": {
          "base_uri": "https://localhost:8080/",
          "height": 35
        },
        "outputId": "93a6499b-bcdc-4a30-d2c7-3fbdd92c2a62"
      }
    },
    {
      "cell_type": "code",
      "execution_count": 16,
      "outputs": [
        {
          "output_type": "execute_result",
          "data": {
            "application/vnd.google.colaboratory.intrinsic+json": {
              "type": "string"
            },
            "text/plain": [
              "'This is a simple sentence'"
            ]
          },
          "metadata": {},
          "execution_count": 16
        }
      ],
      "source": [
        "s.replace(\"$\", \", example of replace\")"
      ],
      "metadata": {
        "pycharm": {
          "name": "#%%\n"
        },
        "id": "n9t5zzV-jg6O",
        "colab": {
          "base_uri": "https://localhost:8080/",
          "height": 35
        },
        "outputId": "362bfe9c-ab67-4d8b-c927-42ec603eb271"
      }
    },
    {
      "cell_type": "code",
      "execution_count": 18,
      "outputs": [
        {
          "output_type": "execute_result",
          "data": {
            "application/vnd.google.colaboratory.intrinsic+json": {
              "type": "string"
            },
            "text/plain": [
              "'This is a simple sentence'"
            ]
          },
          "metadata": {},
          "execution_count": 18
        }
      ],
      "source": [
        "s.replace(\"$$\",\"anything\") "
      ],
      "metadata": {
        "pycharm": {
          "name": "#%%\n"
        },
        "id": "1bTPEtx6jg6O",
        "colab": {
          "base_uri": "https://localhost:8080/",
          "height": 35
        },
        "outputId": "10ae6ea2-98a1-4831-de88-b767bf32935d"
      }
    },
    {
      "cell_type": "markdown",
      "source": [
        "We can replace certain characters"
      ],
      "metadata": {
        "collapsed": false,
        "id": "WVhkKa_Ajg6P"
      }
    },
    {
      "cell_type": "code",
      "execution_count": null,
      "outputs": [],
      "source": [
        "s.replace(\"$\", \", example of replace\")"
      ],
      "metadata": {
        "pycharm": {
          "name": "#%%\n"
        },
        "id": "_d4vuqAbjg6P"
      }
    },
    {
      "cell_type": "code",
      "source": [
        "s.replace(\"$$\",\"anything\") "
      ],
      "metadata": {
        "colab": {
          "base_uri": "https://localhost:8080/",
          "height": 35
        },
        "id": "EmwcVu85pEoE",
        "outputId": "512c4a98-619d-4d83-b425-3587e04e943a"
      },
      "execution_count": 20,
      "outputs": [
        {
          "output_type": "execute_result",
          "data": {
            "application/vnd.google.colaboratory.intrinsic+json": {
              "type": "string"
            },
            "text/plain": [
              "'This is a simple sentence'"
            ]
          },
          "metadata": {},
          "execution_count": 20
        }
      ]
    },
    {
      "cell_type": "markdown",
      "source": [
        "We can check if a string could be a numeric type"
      ],
      "metadata": {
        "collapsed": false,
        "id": "rgXF3Dd5jg6P"
      }
    },
    {
      "cell_type": "code",
      "execution_count": 21,
      "outputs": [
        {
          "output_type": "execute_result",
          "data": {
            "text/plain": [
              "False"
            ]
          },
          "metadata": {},
          "execution_count": 21
        }
      ],
      "source": [
        "\"!\".isalnum()"
      ],
      "metadata": {
        "pycharm": {
          "name": "#%%\n"
        },
        "id": "-QPnljxvjg6Q",
        "colab": {
          "base_uri": "https://localhost:8080/"
        },
        "outputId": "6e772407-8bae-4f11-9ece-0ba4debaf3a0"
      }
    },
    {
      "cell_type": "code",
      "execution_count": 23,
      "outputs": [
        {
          "output_type": "execute_result",
          "data": {
            "text/plain": [
              "True"
            ]
          },
          "metadata": {},
          "execution_count": 23
        }
      ],
      "source": [
        "\"42\".isalnum()"
      ],
      "metadata": {
        "pycharm": {
          "name": "#%%\n"
        },
        "id": "NqB0E0aejg6Q",
        "colab": {
          "base_uri": "https://localhost:8080/"
        },
        "outputId": "75d47d30-0441-447c-e41b-f5bd5d861c87"
      }
    },
    {
      "cell_type": "markdown",
      "source": [
        "We can check if a string contains a **sub-string**"
      ],
      "metadata": {
        "collapsed": false,
        "id": "GRgJoP_vjg6Q"
      }
    },
    {
      "cell_type": "code",
      "execution_count": 24,
      "outputs": [
        {
          "output_type": "execute_result",
          "data": {
            "text/plain": [
              "True"
            ]
          },
          "metadata": {},
          "execution_count": 24
        }
      ],
      "source": [
        "\"This\" in s"
      ],
      "metadata": {
        "pycharm": {
          "name": "#%%\n"
        },
        "id": "_6-LRMh_jg6Q",
        "colab": {
          "base_uri": "https://localhost:8080/"
        },
        "outputId": "f9ddb667-4d42-4e13-b9d0-749fe11539ae"
      }
    },
    {
      "cell_type": "code",
      "source": [
        "\"potato\" in s"
      ],
      "metadata": {
        "colab": {
          "base_uri": "https://localhost:8080/"
        },
        "id": "N-qmnI6KpnsJ",
        "outputId": "a16f73f4-dc82-489d-ad80-13549d5a41fb"
      },
      "execution_count": 25,
      "outputs": [
        {
          "output_type": "execute_result",
          "data": {
            "text/plain": [
              "False"
            ]
          },
          "metadata": {},
          "execution_count": 25
        }
      ]
    },
    {
      "cell_type": "code",
      "source": [
        "\"THIS\" in s"
      ],
      "metadata": {
        "colab": {
          "base_uri": "https://localhost:8080/"
        },
        "id": "cMni-JSlptdZ",
        "outputId": "5ae0be40-a571-4b04-bfd5-965faafc0d9e"
      },
      "execution_count": 26,
      "outputs": [
        {
          "output_type": "execute_result",
          "data": {
            "text/plain": [
              "False"
            ]
          },
          "metadata": {},
          "execution_count": 26
        }
      ]
    },
    {
      "cell_type": "code",
      "source": [
        "\"THIS\" in s.upper()"
      ],
      "metadata": {
        "colab": {
          "base_uri": "https://localhost:8080/"
        },
        "id": "-UUruqawpxPo",
        "outputId": "1e4f7cca-fe91-45df-d24d-4f9b5a3f66be"
      },
      "execution_count": 27,
      "outputs": [
        {
          "output_type": "execute_result",
          "data": {
            "text/plain": [
              "True"
            ]
          },
          "metadata": {},
          "execution_count": 27
        }
      ]
    },
    {
      "cell_type": "markdown",
      "source": [
        "We can count the number of times something appears in a string."
      ],
      "metadata": {
        "collapsed": false,
        "id": "ecPm9ZmLjg6Q"
      }
    },
    {
      "cell_type": "code",
      "execution_count": 28,
      "outputs": [
        {
          "output_type": "execute_result",
          "data": {
            "text/plain": [
              "4"
            ]
          },
          "metadata": {},
          "execution_count": 28
        }
      ],
      "source": [
        "s.count (\" \")"
      ],
      "metadata": {
        "pycharm": {
          "name": "#%%\n"
        },
        "id": "SIASim0zjg6R",
        "colab": {
          "base_uri": "https://localhost:8080/"
        },
        "outputId": "5086945d-50f4-44db-bb26-fd238310e1fc"
      }
    },
    {
      "cell_type": "code",
      "source": [
        "s.count (\"i\")"
      ],
      "metadata": {
        "id": "UqQdxa99qUIg"
      },
      "execution_count": null,
      "outputs": []
    },
    {
      "cell_type": "code",
      "source": [
        "s.count(\"$\")"
      ],
      "metadata": {
        "id": "8yZbfcgQqYrv"
      },
      "execution_count": null,
      "outputs": []
    },
    {
      "cell_type": "markdown",
      "source": [
        "or check if a string starts with another substring"
      ],
      "metadata": {
        "collapsed": false,
        "id": "3q8TJ8ZPjg6R"
      }
    },
    {
      "cell_type": "code",
      "execution_count": 29,
      "outputs": [
        {
          "output_type": "execute_result",
          "data": {
            "text/plain": [
              "True"
            ]
          },
          "metadata": {},
          "execution_count": 29
        }
      ],
      "source": [
        "s.startswith(\"T\")"
      ],
      "metadata": {
        "pycharm": {
          "name": "#%%\n"
        },
        "id": "RjWuXwV9jg6R",
        "colab": {
          "base_uri": "https://localhost:8080/"
        },
        "outputId": "6fd17468-d36e-4532-9f39-51e8528d6da0"
      }
    },
    {
      "cell_type": "code",
      "source": [
        "s.endswith(\".\")"
      ],
      "metadata": {
        "id": "CbLR7nhkqpex"
      },
      "execution_count": null,
      "outputs": []
    },
    {
      "cell_type": "code",
      "source": [
        "s.startswith(\"$\")"
      ],
      "metadata": {
        "colab": {
          "base_uri": "https://localhost:8080/"
        },
        "id": "4a-8rbowqtOf",
        "outputId": "99c7217a-b9f7-4565-f1a6-57f28b39dfe3"
      },
      "execution_count": 30,
      "outputs": [
        {
          "output_type": "execute_result",
          "data": {
            "text/plain": [
              "False"
            ]
          },
          "metadata": {},
          "execution_count": 30
        }
      ]
    },
    {
      "cell_type": "markdown",
      "source": [
        "With `len()`, you can check Python string length"
      ],
      "metadata": {
        "collapsed": false,
        "id": "ArXTq6r9jg6R"
      }
    },
    {
      "cell_type": "code",
      "execution_count": 33,
      "outputs": [
        {
          "output_type": "execute_result",
          "data": {
            "text/plain": [
              "26"
            ]
          },
          "metadata": {},
          "execution_count": 33
        }
      ],
      "source": [
        "len(s)"
      ],
      "metadata": {
        "pycharm": {
          "name": "#%%\n"
        },
        "id": "Xtqfj7gIjg6S",
        "colab": {
          "base_uri": "https://localhost:8080/"
        },
        "outputId": "c8669374-3bb2-4a4f-91b3-f0b95afae9c1"
      }
    },
    {
      "cell_type": "code",
      "source": [
        "len(s * 100) "
      ],
      "metadata": {
        "colab": {
          "base_uri": "https://localhost:8080/"
        },
        "id": "NaOM0AsvrEKQ",
        "outputId": "d1379fe8-0ef0-4c76-eea9-139a510985a8"
      },
      "execution_count": 35,
      "outputs": [
        {
          "output_type": "execute_result",
          "data": {
            "text/plain": [
              "2600"
            ]
          },
          "metadata": {},
          "execution_count": 35
        }
      ]
    },
    {
      "cell_type": "markdown",
      "source": [
        "Each character in string has a position similar to how lists behaved in Snap"
      ],
      "metadata": {
        "collapsed": false,
        "id": "ztd32hfdjg6S"
      }
    },
    {
      "cell_type": "code",
      "execution_count": 36,
      "outputs": [
        {
          "output_type": "stream",
          "name": "stdout",
          "text": [
            "T\n",
            "h\n",
            "i\n",
            "s\n",
            " \n",
            "i\n",
            "s\n",
            " \n",
            "a\n",
            " \n",
            "s\n",
            "i\n",
            "m\n",
            "p\n",
            "l\n",
            "e\n",
            " \n",
            "s\n",
            "e\n",
            "n\n",
            "t\n",
            "e\n",
            "n\n",
            "c\n",
            "e\n",
            ".\n"
          ]
        }
      ],
      "source": [
        "for char in s:\n",
        "    print(char)"
      ],
      "metadata": {
        "pycharm": {
          "name": "#%%\n"
        },
        "id": "KiUFlhpLjg6S",
        "colab": {
          "base_uri": "https://localhost:8080/"
        },
        "outputId": "ff4c505b-fc7e-4486-83b8-9f92fdc2c6ac"
      }
    },
    {
      "cell_type": "markdown",
      "source": [
        "We can get the last character with `[-1]`"
      ],
      "metadata": {
        "collapsed": false,
        "id": "t0eCrdi7jg6S"
      }
    },
    {
      "cell_type": "code",
      "execution_count": 38,
      "outputs": [
        {
          "output_type": "execute_result",
          "data": {
            "application/vnd.google.colaboratory.intrinsic+json": {
              "type": "string"
            },
            "text/plain": [
              "'s'"
            ]
          },
          "metadata": {},
          "execution_count": 38
        }
      ],
      "source": [
        "s[3]"
      ],
      "metadata": {
        "pycharm": {
          "name": "#%%\n"
        },
        "id": "DaRW_sOCjg6S",
        "colab": {
          "base_uri": "https://localhost:8080/",
          "height": 35
        },
        "outputId": "7eb5cee9-db34-44fe-f860-77047d038cdb"
      }
    },
    {
      "cell_type": "code",
      "source": [
        "s[-2]"
      ],
      "metadata": {
        "colab": {
          "base_uri": "https://localhost:8080/",
          "height": 35
        },
        "id": "b1hNLf2CsmcM",
        "outputId": "35d8124d-f09a-43b3-8579-15959b50114d"
      },
      "execution_count": 39,
      "outputs": [
        {
          "output_type": "execute_result",
          "data": {
            "application/vnd.google.colaboratory.intrinsic+json": {
              "type": "string"
            },
            "text/plain": [
              "'e'"
            ]
          },
          "metadata": {},
          "execution_count": 39
        }
      ]
    },
    {
      "cell_type": "markdown",
      "source": [
        "We can also take *slices* from strings, remember in Python we start counting from 0."
      ],
      "metadata": {
        "collapsed": false,
        "id": "BDtL8hKnjg6S"
      }
    },
    {
      "cell_type": "code",
      "execution_count": 41,
      "outputs": [
        {
          "output_type": "execute_result",
          "data": {
            "application/vnd.google.colaboratory.intrinsic+json": {
              "type": "string"
            },
            "text/plain": [
              "'This'"
            ]
          },
          "metadata": {},
          "execution_count": 41
        }
      ],
      "source": [
        "s[0:4]\n",
        "# In python the lower bound (number) is inclusive \n",
        "# In the upper bound (number / limit) is exclusive "
      ],
      "metadata": {
        "pycharm": {
          "name": "#%%\n"
        },
        "id": "WMr2Wbucjg6T",
        "colab": {
          "base_uri": "https://localhost:8080/",
          "height": 35
        },
        "outputId": "1d7443fd-dcc0-4cfd-dd69-ffa6a7dbe4aa"
      }
    },
    {
      "cell_type": "code",
      "execution_count": 43,
      "outputs": [
        {
          "output_type": "execute_result",
          "data": {
            "application/vnd.google.colaboratory.intrinsic+json": {
              "type": "string"
            },
            "text/plain": [
              "'.'"
            ]
          },
          "metadata": {},
          "execution_count": 43
        }
      ],
      "source": [
        "s[len(s) - 1]"
      ],
      "metadata": {
        "pycharm": {
          "name": "#%%\n"
        },
        "id": "wC5AjrU5jg6T",
        "colab": {
          "base_uri": "https://localhost:8080/",
          "height": 35
        },
        "outputId": "9edca631-c9b1-447b-e6c8-3d236f09ed78"
      }
    },
    {
      "cell_type": "code",
      "source": [
        "s[-1]"
      ],
      "metadata": {
        "colab": {
          "base_uri": "https://localhost:8080/",
          "height": 35
        },
        "id": "Qhza6h-6tWAM",
        "outputId": "cb6d8538-e89f-4463-ca8d-b5ef3bc97a2c"
      },
      "execution_count": 44,
      "outputs": [
        {
          "output_type": "execute_result",
          "data": {
            "application/vnd.google.colaboratory.intrinsic+json": {
              "type": "string"
            },
            "text/plain": [
              "'.'"
            ]
          },
          "metadata": {},
          "execution_count": 44
        }
      ]
    },
    {
      "cell_type": "markdown",
      "source": [
        "\n",
        "\n",
        "There is also a number of tricks for formatting strings"
      ],
      "metadata": {
        "collapsed": false,
        "id": "F5cUhoVQjg6T"
      }
    },
    {
      "cell_type": "code",
      "execution_count": 45,
      "outputs": [],
      "source": [
        "example = \"    foo bar baz    \""
      ],
      "metadata": {
        "pycharm": {
          "name": "#%%\n"
        },
        "id": "F1UhMyjijg6T"
      }
    },
    {
      "cell_type": "code",
      "execution_count": 46,
      "outputs": [
        {
          "output_type": "execute_result",
          "data": {
            "application/vnd.google.colaboratory.intrinsic+json": {
              "type": "string"
            },
            "text/plain": [
              "'    foo bar baz'"
            ]
          },
          "metadata": {},
          "execution_count": 46
        }
      ],
      "source": [
        "example.rstrip()"
      ],
      "metadata": {
        "pycharm": {
          "name": "#%%\n"
        },
        "id": "9RdRTdzUjg6T",
        "colab": {
          "base_uri": "https://localhost:8080/",
          "height": 35
        },
        "outputId": "c7113198-5f8b-42b4-f1ff-e02d886b3446"
      }
    },
    {
      "cell_type": "code",
      "execution_count": 47,
      "outputs": [
        {
          "output_type": "execute_result",
          "data": {
            "application/vnd.google.colaboratory.intrinsic+json": {
              "type": "string"
            },
            "text/plain": [
              "'foo bar baz    '"
            ]
          },
          "metadata": {},
          "execution_count": 47
        }
      ],
      "source": [
        "example.lstrip()"
      ],
      "metadata": {
        "pycharm": {
          "name": "#%%\n"
        },
        "id": "_bSUk4XZjg6T",
        "colab": {
          "base_uri": "https://localhost:8080/",
          "height": 35
        },
        "outputId": "7420b2db-fd5b-4684-e676-43ea881da080"
      }
    },
    {
      "cell_type": "code",
      "source": [
        "example.lstrip(). rstrip()"
      ],
      "metadata": {
        "colab": {
          "base_uri": "https://localhost:8080/",
          "height": 35
        },
        "id": "J6wEEKpvtyab",
        "outputId": "94eab0a1-3141-4e8c-ef7c-2b598c506877"
      },
      "execution_count": 48,
      "outputs": [
        {
          "output_type": "execute_result",
          "data": {
            "application/vnd.google.colaboratory.intrinsic+json": {
              "type": "string"
            },
            "text/plain": [
              "'foo bar baz'"
            ]
          },
          "metadata": {},
          "execution_count": 48
        }
      ]
    },
    {
      "cell_type": "markdown",
      "source": [
        "If we have a list (we will explore these more later) of strings we can join them together"
      ],
      "metadata": {
        "collapsed": false,
        "id": "Y0VhYll2jg6T"
      }
    },
    {
      "cell_type": "code",
      "execution_count": 52,
      "outputs": [
        {
          "output_type": "execute_result",
          "data": {
            "application/vnd.google.colaboratory.intrinsic+json": {
              "type": "string"
            },
            "text/plain": [
              "'foo, bar, baz'"
            ]
          },
          "metadata": {},
          "execution_count": 52
        }
      ],
      "source": [
        "string_list = [\"foo, bar, baz\"]\n",
        "\n",
        "\n",
        "\" \".join(string_list)"
      ],
      "metadata": {
        "pycharm": {
          "name": "#%%\n"
        },
        "id": "NDZNtNfdjg6U",
        "colab": {
          "base_uri": "https://localhost:8080/",
          "height": 35
        },
        "outputId": "7cf76eca-08e0-40eb-daac-deeab9468375"
      }
    },
    {
      "cell_type": "code",
      "execution_count": 51,
      "outputs": [
        {
          "output_type": "execute_result",
          "data": {
            "application/vnd.google.colaboratory.intrinsic+json": {
              "type": "string"
            },
            "text/plain": [
              "'foo, bar, baz'"
            ]
          },
          "metadata": {},
          "execution_count": 51
        }
      ],
      "source": [
        "\" \".join(string_list)"
      ],
      "metadata": {
        "pycharm": {
          "name": "#%%\n"
        },
        "id": "w_syxwRwjg6U",
        "colab": {
          "base_uri": "https://localhost:8080/",
          "height": 35
        },
        "outputId": "b0efa5df-008d-4257-e477-3c3732087d85"
      }
    },
    {
      "cell_type": "markdown",
      "source": [
        "As you can see there is a lot we can do with strings and rightly so as we tend to interact with text data quite frequently while programming."
      ],
      "metadata": {
        "collapsed": false,
        "pycharm": {
          "name": "#%% md\n"
        },
        "id": "KizTdTjwjg6U"
      }
    }
  ],
  "metadata": {
    "kernelspec": {
      "name": "python3",
      "language": "python",
      "display_name": "Python 3 (ipykernel)"
    },
    "language_info": {
      "codemirror_mode": {
        "name": "ipython",
        "version": 2
      },
      "file_extension": ".py",
      "mimetype": "text/x-python",
      "name": "python",
      "nbconvert_exporter": "python",
      "pygments_lexer": "ipython2",
      "version": "2.7.6"
    },
    "colab": {
      "name": "Copy of Notes-1-04-01_String-manipulation-lecture.ipynb",
      "provenance": [],
      "collapsed_sections": [],
      "include_colab_link": true
    }
  },
  "nbformat": 4,
  "nbformat_minor": 0
}