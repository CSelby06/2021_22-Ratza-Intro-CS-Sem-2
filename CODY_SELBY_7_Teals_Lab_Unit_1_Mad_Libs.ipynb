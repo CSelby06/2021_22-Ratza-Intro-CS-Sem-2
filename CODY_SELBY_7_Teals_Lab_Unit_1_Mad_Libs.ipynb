{
  "nbformat": 4,
  "nbformat_minor": 0,
  "metadata": {
    "colab": {
      "name": "CODY SELBY - 7. Teals Lab - Unit 1 - Mad Libs.ipynb",
      "provenance": [],
      "collapsed_sections": [],
      "include_colab_link": true
    },
    "kernelspec": {
      "name": "python3",
      "display_name": "Python 3"
    },
    "language_info": {
      "name": "python"
    }
  },
  "cells": [
    {
      "cell_type": "markdown",
      "metadata": {
        "id": "view-in-github",
        "colab_type": "text"
      },
      "source": [
        "<a href=\"https://colab.research.google.com/github/CSelby06/2021_22-Ratza-Intro-CS-Sem-2/blob/main/CODY_SELBY_7_Teals_Lab_Unit_1_Mad_Libs.ipynb\" target=\"_parent\"><img src=\"https://colab.research.google.com/assets/colab-badge.svg\" alt=\"Open In Colab\"/></a>"
      ]
    },
    {
      "cell_type": "markdown",
      "source": [
        "**Project 1: Mad Libs**\n",
        "\n",
        "Using Python, students will use variables, input, and printing to create a Mad Lib. You will also practice designing a\n",
        "project by planning out your Mad Lib before implementing it. Part of the project is to use your creativity to design\n",
        "your own unique story.\n",
        "\n",
        "**Overview**\n",
        "\n",
        "Mad Libs are a fun way to tell a story. The story is pre-written except for a few missing words. The story is hidden\n",
        "from the user. The user is asked a series of questions in ord\n",
        "\n",
        "**Implementation Details**\n",
        "\n",
        "Plan out your story on pencil and paper first, before you start implementing the program.\n",
        "1. Create your story\n",
        "2. Select the missing words\n",
        "3. Determine each words part of speech\n",
        "4. Create introduction\n",
        "5. Create questions\n",
        "6. Divide story into print statements\n",
        "\n",
        "As mentioned above the program must request words from the user. The following must be included in the\n",
        "program:\n",
        "\n",
        "• 10 different words inputted\n",
        "\n",
        "• Variable names should correspond to the part of speech requested and part of the story they belong to (e.g. NOUN1, VERB2, etc)\n",
        "\n",
        "• You may only use 3 print statements to tell your story"
      ],
      "metadata": {
        "id": "5wrFIi15X0WW"
      }
    },
    {
      "cell_type": "code",
      "execution_count": 5,
      "metadata": {
        "id": "kt0MSyHSXp92",
        "colab": {
          "base_uri": "https://localhost:8080/",
          "height": 131
        },
        "outputId": "b86431fe-0347-4dfd-a3eb-35e744452dcf"
      },
      "outputs": [
        {
          "output_type": "error",
          "ename": "SyntaxError",
          "evalue": "ignored",
          "traceback": [
            "\u001b[0;36m  File \u001b[0;32m\"<ipython-input-5-e6ade11549fe>\"\u001b[0;36m, line \u001b[0;32m4\u001b[0m\n\u001b[0;31m    (Propernoun1) \"went to\" (Another place) very (adverb), alfter that (Proper noun1) decided to go to (Another place) and\u001b[0m\n\u001b[0m                          ^\u001b[0m\n\u001b[0;31mSyntaxError\u001b[0m\u001b[0;31m:\u001b[0m invalid syntax\n"
          ]
        }
      ],
      "source": [
        "\n",
        "(Title)\n",
        "\n",
        "(Propernoun1) \"went to\" (Another place) very (adverb), alfter that (Proper noun1) decided to go to (Another place) and \n",
        "(verb) with (Proper noun2), and then randomly (Proper noun3) showed up and made the party very (adverb.\n",
        "but at the end of the day, things got all (adjective)\n",
        "\n",
        "\n",
        "\n",
        "Title = (\"Mad libs\")\n",
        "Propernoun1 = input(\" enter a propernoun\")\n",
        "Another place = input(\" enter Another place\")\n",
        "adverb = input(\" enter a adverb)\n",
        "verb = input(\" enter a verb)\n",
        "Proper noun2 = input(\" enter a propernoun)\n",
        "adjective = input(\" enter a adjective))\n",
        "\n",
        "print(Proper_noun1 + \"went to\" + Another place + \"very\" + adverb +, \"alfter that\" + Proper noun1 + \"decided to go to\" + Another place)\n",
        "print(\"and\" (verb) \"with\" (Proper noun2), \"and then randomly\" (Proper noun3) \"showed up and made the party very\" (adverb).\"\n",
        "print(\"\"but at the end of the day, things got all\" (adjective)"
      ]
    }
  ]
}